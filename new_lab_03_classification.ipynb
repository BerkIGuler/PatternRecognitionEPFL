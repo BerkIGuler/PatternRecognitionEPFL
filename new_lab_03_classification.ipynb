{
 "cells": [
  {
   "cell_type": "markdown",
   "metadata": {},
   "source": [
    "# [IAPR][iapr]: Lab 3 ‒  Classification\n",
    "\n",
    "\n",
    "\n",
    "## Important notes\n",
    "\n",
    "The lab assignments are designed to teach practical implementation of the topics presented during class well as\n",
    "preparation for the final project, which is a practical project which ties together the topics of the course.\n",
    "\n",
    "As such, in the lab assignments/final project, unless otherwise specified, you may, if you choose, use external\n",
    "functions from image processing/ML libraries like opencv and sklearn as long as there is sufficient explanation\n",
    "in the lab report. For example, you do not need to implement your own edge detector, etc.\n",
    "\n",
    "**! Before handling back the notebook <font color='red'> rerun </font>the notebook from scratch !**\n",
    "`Kernel` > `Restart & Run All`\n",
    "\n",
    "We will not rerun the notebook for you.\n",
    "\n",
    "\n",
    "[iapr]: https://github.com/LTS5/iapr"
   ]
  },
  {
   "cell_type": "markdown",
   "metadata": {},
   "source": [
    "## Extract relevant data\n",
    "We first need to extract the `lab-03-data.tar.gz` archive.\n",
    "To this end, we use the [tarfile] module from the Python standard library.\n",
    "\n",
    "[tarfile]: https://docs.python.org/3.6/library/tarfile.html"
   ]
  },
  {
   "cell_type": "code",
   "execution_count": 1,
   "metadata": {},
   "outputs": [],
   "source": [
    "import tarfile\n",
    "import os\n",
    "\n",
    "data_base_path = os.path.join(os.pardir, 'data')\n",
    "data_folder = 'lab-03-data'\n",
    "tar_path = os.path.join(data_base_path, data_folder + '.tar.gz')\n",
    "with tarfile.open(tar_path, mode='r:gz') as tar:\n",
    "    tar.extractall(path=data_base_path)"
   ]
  },
  {
   "cell_type": "markdown",
   "metadata": {},
   "source": [
    "---\n",
    "## Part 1\n",
    "In this part, we will study classification based on the data available in the Matlab file `classification.mat` that you will under `lab-03-data/part1`.\n",
    "There are 3 data sets in this file, each one being a training set for a given class.\n",
    "They are contained in variables `a`, `b` and `c`.\n",
    "\n",
    "**Note**: we can load Matlab files using the [scipy.io] module.\n",
    "\n",
    "[scipy.io]: https://docs.scipy.org/doc/scipy/reference/io.html"
   ]
  },
  {
   "cell_type": "code",
   "execution_count": 2,
   "metadata": {},
   "outputs": [
    {
     "name": "stdout",
     "output_type": "stream",
     "text": [
      "(200, 2) (200, 2) (200, 2)\n"
     ]
    }
   ],
   "source": [
    "import scipy.io\n",
    "\n",
    "data_part1_path = os.path.join(data_base_path, data_folder, 'part1', 'classification.mat')\n",
    "matfile = scipy.io.loadmat(data_part1_path)\n",
    "a = matfile['a']\n",
    "b = matfile['b']\n",
    "c = matfile['c']\n",
    "\n",
    "print(a.shape, b.shape, c.shape)"
   ]
  },
  {
   "cell_type": "code",
   "execution_count": 3,
   "metadata": {},
   "outputs": [],
   "source": [
    "import matplotlib.pyplot as plt\n",
    "import numpy as np"
   ]
  },
  {
   "cell_type": "code",
   "execution_count": 4,
   "metadata": {},
   "outputs": [
    {
     "data": {
      "text/plain": [
       "Text(0, 0.5, 'y')"
      ]
     },
     "execution_count": 4,
     "metadata": {},
     "output_type": "execute_result"
    },
    {
     "data": {
      "image/png": "[encoded data removed]",
      "text/plain": [
       "<Figure size 1152x576 with 1 Axes>"
      ]
     },
     "metadata": {
      "needs_background": "light"
     },
     "output_type": "display_data"
    }
   ],
   "source": [
    "# Visualization of the Data\n",
    "plt.figure(figsize=(16, 8))\n",
    "\n",
    "plt.xlim([-18, 18])\n",
    "plt.ylim([-9, 9])\n",
    "\n",
    "plt.scatter(a[:,0], a[:,1], marker='^')\n",
    "plt.scatter(b[:,0], b[:,1], marker='o')\n",
    "plt.scatter(c[:,0], c[:,1], marker='s')\n",
    "\n",
    "plt.title('Distribution of Features')\n",
    "plt.legend(['a', 'b', 'c'])\n",
    "plt.xlabel('x')\n",
    "plt.ylabel('y')"
   ]
  },
  {
   "cell_type": "markdown",
   "metadata": {},
   "source": [
    "The classes are assumed to be equiprobable. Mean and covariances of each class are calculated as follows:"
   ]
  },
  {
   "cell_type": "code",
   "execution_count": 5,
   "metadata": {},
   "outputs": [
    {
     "name": "stdout",
     "output_type": "stream",
     "text": [
      "[-0.21000115  0.03048009]\n",
      "[2.8018991 3.0535643]\n",
      "[-10.05748461   0.22582978]\n",
      "\n",
      "[[10.02769733  0.13162336]\n",
      " [ 0.13162336  0.83932673]]\n",
      "[[10.17034812  0.18023771]\n",
      " [ 0.18023771  1.0840038 ]]\n",
      "[[0.97013029 0.23458112]\n",
      " [0.23458112 4.69756273]]\n"
     ]
    }
   ],
   "source": [
    "# Calculate prior pdf of classes, mean and covariance matrices of the data\n",
    "\n",
    "p_a = 1/3\n",
    "p_b = 1/3\n",
    "p_c = 1/3\n",
    "\n",
    "mean_a = np.mean(a, axis=0)\n",
    "mean_b = np.mean(b, axis=0)\n",
    "mean_c = np.mean(c, axis=0)\n",
    "\n",
    "print(mean_a)\n",
    "print(mean_b)\n",
    "print(mean_c, end='\\n\\n')\n",
    "\n",
    "cov_a = np.cov(a.T)\n",
    "cov_b = np.cov(b.T)\n",
    "cov_c = np.cov(c.T)\n",
    "\n",
    "print(cov_a)\n",
    "print(cov_b)\n",
    "print(cov_c)"
   ]
  },
  {
   "cell_type": "markdown",
   "metadata": {},
   "source": [
    "### 1.1 Bayes method (5 pts)\n",
    "Using the Bayes method, give the expression of the separation curves between those three classes.\n",
    "Do reasonable hypotheses about the distributions of those classes and estimate the corresponding parameters based on the given training sets.\n",
    "Draw those curves on a plot, together with the training data. Note that you do not need to solve the analytical expression. You can simply evaluate the function for each point on the plane to end up with a segmentation map.\n",
    "For simplicity reasons, round the estimated parameters to the closest integer value."
   ]
  },
  {
   "cell_type": "markdown",
   "metadata": {},
   "source": [
    "The distribution of classes are assumed to be Gaussian. "
   ]
  },
  {
   "cell_type": "markdown",
   "metadata": {},
   "source": [
    "We have 3 classes in this lab. Therefore, we need 3 separation curves, each curve is separating 2 different classes. \n",
    "The expression of the separation curve between classes i and j is given as follows:\n",
    "\n",
    "$$g_i(x) - g_j(x) = 0 $$\n",
    "$$-\\frac{1}{2}(x-\\mu_i)^T \\Sigma_i^{-1} (x-\\mu_i) + ln(P(w_i)) + c_i + \\frac{1}{2}(x-\\mu_j)^T \\Sigma_j^{-1} (x-\\mu_j) - ln(P(w_j)) - c_j = 0$$\n",
    "\n",
    "Since the priori of each class is the same, the curve expression becomes:\n",
    "\n",
    "$$g_i(x) - g_j(x) = -\\frac{1}{2}(x-\\mu_i)^T \\Sigma_i^{-1} (x-\\mu_i) + c_i + \\frac{1}{2}(x-\\mu_j)^T \\Sigma_j^{-1} (x-\\mu_j) - c_j = 0$$"
   ]
  },
  {
   "cell_type": "markdown",
   "metadata": {},
   "source": [
    "The following function calculates the discriminant function assuming the distribution of the classes are Gaussian."
   ]
  },
  {
   "cell_type": "code",
   "execution_count": 6,
   "metadata": {},
   "outputs": [],
   "source": [
    "def eval_sample_feature(x, mean, cov, pdf):\n",
    "    \n",
    "    inv_cov = np.linalg.inv(cov)\n",
    "    det_cov = np.linalg.det(cov)\n",
    "    \n",
    "    term1 = -1/2 * (np.dot((x - mean).T, inv_cov).dot(x - mean))\n",
    "    term2 = np.log(pdf)\n",
    "    term3 = np.log(1 / ((2*np.pi) * det_cov**1/2))\n",
    "    \n",
    "    return term1 + term2 + term3"
   ]
  },
  {
   "cell_type": "code",
   "execution_count": 7,
   "metadata": {},
   "outputs": [
    {
     "name": "stdout",
     "output_type": "stream",
     "text": [
      "-5.5583231738518855\n"
     ]
    }
   ],
   "source": [
    "print(eval_sample_feature(a[0,:], mean_a, cov_a, p_a))"
   ]
  },
  {
   "cell_type": "markdown",
   "metadata": {},
   "source": [
    "The following function is used to determine the decision curves between classes. The probabilities that are calculated with *eval_sample_feature* are compared and if the difference between the probabilities are below 0.0001, the point is defined as a part of the decision curve."
   ]
  },
  {
   "cell_type": "code",
   "execution_count": 8,
   "metadata": {},
   "outputs": [],
   "source": [
    "def find_numerical_intersection(means, covs, pdfs, eval_func):\n",
    "    x_range = np.arange(-18, 18, 0.005)\n",
    "    y_range = np.arange(-9, 9, 0.005)\n",
    "    \n",
    "    inters_points = []\n",
    "    \n",
    "    for x in x_range:\n",
    "        for y in y_range:\n",
    "            data_point = np.array([x, y])\n",
    "            eval_1 = eval_func(data_point, means[0], covs[0], pdfs[0])\n",
    "            eval_2 = eval_func(data_point, means[1], covs[1], pdfs[1])\n",
    "            if abs(eval_1 - eval_2) < 0.0001:\n",
    "                print(x, y)\n",
    "                inters_points.append((x, y))\n",
    "                \n",
    "    return np.array(inters_points)"
   ]
  },
  {
   "cell_type": "code",
   "execution_count": 9,
   "metadata": {},
   "outputs": [
    {
     "name": "stdout",
     "output_type": "stream",
     "text": [
      "-17.920000000000016 2.905000000001861\n",
      "-17.765000000000047 2.8950000000018594\n",
      "-17.610000000000078 2.885000000001858\n",
      "-17.225000000000154 2.860000000001854\n",
      "-16.53500000000029 2.815000000001847\n",
      "-16.230000000000352 2.795000000001844\n",
      "-15.850000000000428 2.77000000000184\n",
      "-15.320000000000533 2.7350000000018344\n",
      "-15.245000000000548 2.7300000000018336\n",
      "-15.170000000000563 2.725000000001833\n",
      "-14.345000000000727 2.6700000000018242\n",
      "-14.270000000000742 2.6650000000018235\n",
      "-13.67500000000086 2.625000000001817\n",
      "-13.305000000000934 2.6000000000018133\n",
      "-13.010000000000993 2.58000000000181\n",
      "-12.350000000001124 2.535000000001803\n",
      "-11.985000000001197 2.5100000000017992\n",
      "-11.11500000000137 2.45000000000179\n",
      "-10.755000000001441 2.425000000001786\n",
      "-10.325000000001527 2.3950000000017813\n",
      "-10.11000000000157 2.380000000001779\n",
      "-9.825000000001626 2.360000000001776\n",
      "-9.470000000001697 2.335000000001772\n",
      "-8.975000000001796 2.3000000000017664\n",
      "-7.575000000002074 2.2000000000017508\n",
      "-7.090000000002171 2.1650000000017453\n",
      "-6.745000000002239 2.1400000000017414\n",
      "-6.470000000002294 2.1200000000017383\n",
      "-6.265000000002335 2.105000000001736\n",
      "-5.855000000002416 2.0750000000017312\n",
      "-5.040000000002578 2.015000000001722\n",
      "-4.905000000002605 2.0050000000017203\n",
      "-4.300000000002726 1.9600000000017133\n",
      "-3.500000000002885 1.9000000000017039\n",
      "-2.9700000000029902 1.8600000000016976\n",
      "-2.575000000003069 1.830000000001693\n",
      "-2.0500000000031733 1.7900000000016867\n",
      "-1.9850000000031862 1.785000000001686\n",
      "-1.9200000000031991 1.7800000000016851\n",
      "-1.2700000000033285 1.7300000000016773\n",
      "-1.2050000000033414 1.7250000000016765\n",
      "-1.1400000000033543 1.7200000000016757\n",
      "-0.5600000000034697 1.6750000000016687\n",
      "0.07999999999640295 1.625000000001661\n",
      "0.3349999999963522 1.6050000000016578\n",
      "0.9049999999962388 1.5600000000016507\n",
      "1.094999999996201 1.5450000000016484\n",
      "1.5349999999961135 1.510000000001643\n",
      "1.6599999999960886 1.5000000000016414\n",
      "1.9099999999960389 1.4800000000016382\n",
      "2.034999999996014 1.4700000000016367\n",
      "2.159999999995989 1.460000000001635\n",
      "2.5949999999959026 1.4250000000016296\n",
      "2.779999999995866 1.4100000000016273\n",
      "3.3349999999957554 1.3650000000016203\n",
      "3.5799999999957066 1.3450000000016171\n",
      "3.824999999995658 1.325000000001614\n",
      "4.614999999995501 1.2600000000016038\n",
      "5.994999999995226 1.1450000000015859\n",
      "6.764999999995073 1.0800000000015757\n",
      "7.2349999999949794 1.0400000000015694\n",
      "8.109999999994805 0.9650000000015577\n",
      "8.514999999994725 0.9300000000015523\n",
      "8.629999999994702 0.9200000000015507\n",
      "8.744999999994679 0.9100000000015491\n",
      "8.859999999994656 0.9000000000015476\n",
      "8.974999999994633 0.890000000001546\n",
      "9.08999999999461 0.8800000000015444\n",
      "9.48999999999453 0.845000000001539\n",
      "10.789999999994272 0.730000000001521\n",
      "11.069999999994216 0.7050000000015171\n",
      "11.40499999999415 0.6750000000015124\n",
      "12.014999999994028 0.6200000000015038\n",
      "12.069999999994018 0.615000000001503\n",
      "12.124999999994007 0.6100000000015022\n",
      "12.179999999993996 0.6050000000015014\n",
      "12.234999999993985 0.6000000000015007\n",
      "12.289999999993974 0.5950000000014999\n",
      "12.344999999993963 0.5900000000014991\n",
      "12.399999999993952 0.5850000000014983\n",
      "12.454999999993941 0.5800000000014975\n",
      "12.50999999999393 0.5750000000014968\n",
      "12.564999999993919 0.570000000001496\n",
      "12.619999999993908 0.5650000000014952\n",
      "13.219999999993789 0.5100000000014866\n",
      "13.599999999993713 0.4750000000014811\n",
      "13.86999999999366 0.4500000000014772\n",
      "14.084999999993613 0.4300000000014741\n",
      "14.299999999993574 0.41000000000147097\n",
      "14.939999999993447 0.3500000000014616\n",
      "15.469999999993341 0.30000000000145377\n",
      "16.20499999999319 0.23000000000144283\n",
      "16.309999999993174 0.22000000000144126\n",
      "16.569999999993122 0.19500000000143736\n",
      "16.82999999999307 0.17000000000143345\n",
      "16.984999999993036 0.1550000000014311\n",
      "17.13999999999301 0.14000000000142876\n",
      "17.499999999992937 0.10500000000142329\n",
      "17.704999999992893 0.08500000000142016\n",
      "17.909999999992856 0.06500000000141704\n",
      "-17.635000000000073 -5.254999999999415\n",
      "-17.30000000000014 -4.869999999999354\n",
      "-17.24000000000015 -4.7999999999993435\n",
      "-17.020000000000195 -4.539999999999303\n",
      "-16.920000000000215 -4.419999999999284\n",
      "-16.605000000000278 4.18000000000206\n",
      "-16.130000000000372 -3.414999999999127\n",
      "-16.010000000000396 -3.249999999999101\n",
      "-15.825000000000433 3.0750000000018876\n",
      "-15.760000000000446 -2.889999999999045\n",
      "-15.720000000000454 -2.8299999999990355\n",
      "-15.495000000000498 2.540000000001804\n",
      "-15.34000000000053 -2.2099999999989386\n",
      "-15.315000000000534 -2.1649999999989316\n",
      "-15.18500000000056 1.9600000000017133\n",
      "-14.900000000000617 -1.2549999999987893\n",
      "-14.78500000000064 0.8850000000015452\n",
      "-14.765000000000644 -0.7899999999987166\n",
      "-14.765000000000644 0.8000000000015319\n",
      "-14.750000000000647 0.730000000001521\n",
      "-14.68500000000066 0.27500000000144986\n",
      "-14.675000000000662 -0.07499999999860485\n",
      "-7.560000000002077 -0.18499999999862204\n",
      "-7.555000000002078 -0.4649999999986658\n",
      "-7.550000000002079 0.010000000001408438\n",
      "-7.500000000002089 -0.9149999999987362\n",
      "-7.430000000002103 -1.2249999999987846\n",
      "-7.420000000002105 0.7250000000015202\n",
      "-7.415000000002106 -1.2799999999987932\n",
      "-7.410000000002107 0.7600000000015257\n",
      "-7.370000000002115 0.890000000001546\n",
      "-7.300000000002129 1.0900000000015773\n",
      "-7.255000000002138 -1.7549999999988675\n",
      "-7.135000000002162 -2.039999999998912\n",
      "-6.700000000002248 -2.8699999999990418\n",
      "-6.545000000002279 -3.1249999999990816\n",
      "-6.385000000002311 -3.3749999999991207\n",
      "-6.245000000002339 -3.5849999999991535\n",
      "-6.0300000000023815 -3.894999999999202\n",
      "-5.78500000000243 3.5750000000019657\n",
      "-5.695000000002448 -4.354999999999274\n",
      "-5.305000000002526 -4.864999999999354\n",
      "-5.195000000002548 -5.0049999999993755\n",
      "-4.405000000002705 -5.974999999999527\n",
      "-4.1250000000027605 5.5250000000022705\n",
      "-3.9750000000027903 5.690000000002296\n",
      "-3.1400000000029564 -7.444999999999757\n",
      "-2.760000000003032 6.9900000000024995\n",
      "-17.575000000000085 -1.419999999998815\n",
      "-17.09500000000018 -0.6649999999986971\n",
      "-16.94500000000021 -0.414999999998658\n",
      "-16.935000000000212 8.320000000002707\n",
      "-16.820000000000235 -0.1999999999986244\n",
      "-16.80000000000024 -0.16499999999861892\n",
      "-16.480000000000302 0.4250000000014733\n",
      "-16.305000000000337 7.080000000002514\n",
      "-16.255000000000347 0.8850000000015452\n",
      "-16.075000000000383 1.2950000000016093\n",
      "-15.970000000000404 1.5600000000016507\n",
      "-15.955000000000407 1.600000000001657\n",
      "-15.800000000000438 2.055000000001728\n",
      "-15.770000000000444 2.1550000000017437\n",
      "-15.720000000000454 5.465000000002261\n",
      "-15.695000000000459 5.3650000000022455\n",
      "-15.650000000000468 2.625000000001817\n",
      "-15.53500000000049 4.415000000002097\n",
      "-15.525000000000492 3.4900000000019524\n",
      "-15.525000000000492 4.2900000000020775\n",
      "-15.520000000000493 4.210000000002065\n",
      "-6.925000000002203 3.225000000001911\n",
      "-6.925000000002203 3.6900000000019837\n",
      "-6.89000000000221 2.7800000000018414\n",
      "-6.870000000002214 2.625000000001817\n",
      "-6.855000000002217 2.5250000000018016\n",
      "-6.770000000002234 2.085000000001733\n",
      "-6.680000000002252 5.1600000000022135\n",
      "-6.635000000002261 1.575000000001653\n",
      "-6.385000000002311 6.005000000002346\n",
      "-6.135000000002361 6.570000000002434\n",
      "-6.0750000000023725 0.13500000000142798\n",
      "-6.0350000000023805 0.05000000000141469\n",
      "-5.865000000002414 7.105000000002519\n",
      "-5.590000000002469 -0.8199999999987213\n",
      "-5.375000000002512 -1.2049999999987815\n",
      "-5.195000000002548 -1.51499999999883\n",
      "-3.9300000000027993 -3.4999999999991402\n",
      "-3.835000000002818 -3.639999999999162\n",
      "-3.2250000000029395 -4.5199999999993\n",
      "-3.1650000000029515 -4.604999999999313\n",
      "-3.0800000000029684 -4.724999999999332\n",
      "-2.5200000000030798 -5.504999999999454\n",
      "-1.2700000000033285 -7.194999999999718\n"
     ]
    }
   ],
   "source": [
    "curve_ab = find_numerical_intersection([mean_a, mean_b], [cov_a, cov_b], [p_a, p_b], eval_sample_feature)\n",
    "curve_ac = find_numerical_intersection([mean_a, mean_c], [cov_a, cov_c], [p_a, p_c], eval_sample_feature)\n",
    "curve_bc = find_numerical_intersection([mean_b, mean_c], [cov_b, cov_c], [p_b, p_c], eval_sample_feature)"
   ]
  },
  {
   "cell_type": "code",
   "execution_count": 10,
   "metadata": {},
   "outputs": [
    {
     "name": "stdout",
     "output_type": "stream",
     "text": [
      "(100, 2)\n",
      "(48, 2)\n",
      "(44, 2)\n"
     ]
    }
   ],
   "source": [
    "print(curve_ab.shape)\n",
    "print(curve_ac.shape)\n",
    "print(curve_bc.shape)"
   ]
  },
  {
   "cell_type": "markdown",
   "metadata": {},
   "source": [
    "Below, the training data as well as the decision curves are illustrated."
   ]
  },
  {
   "cell_type": "code",
   "execution_count": 11,
   "metadata": {},
   "outputs": [
    {
     "data": {
      "text/plain": [
       "<matplotlib.collections.PathCollection at 0x7fc418d4b850>"
      ]
     },
     "execution_count": 11,
     "metadata": {},
     "output_type": "execute_result"
    },
    {
     "data": {
      "image/png": "[encoded data removed]",
      "text/plain": [
       "<Figure size 1152x576 with 1 Axes>"
      ]
     },
     "metadata": {
      "needs_background": "light"
     },
     "output_type": "display_data"
    }
   ],
   "source": [
    "# Visualization of the Data\n",
    "plt.figure(figsize=(16, 8))\n",
    "\n",
    "plt.xlim([-18, 18])\n",
    "plt.ylim([-9, 9])\n",
    "\n",
    "plt.scatter(a[:,0], a[:,1])\n",
    "plt.scatter(b[:,0], b[:,1])\n",
    "plt.scatter(c[:,0], c[:,1])\n",
    "\n",
    "plt.title('Distribution of Features')\n",
    "plt.legend(['a', 'b', 'c'])\n",
    "plt.xlabel('x')\n",
    "plt.ylabel('y')\n",
    "\n",
    "plt.scatter(curve_ab[:,0], curve_ab[:,1], marker='^')\n",
    "plt.scatter(curve_ac[:,0], curve_ac[:,1], marker='^')\n",
    "plt.scatter(curve_bc[:,0], curve_bc[:,1], marker='^')\n"
   ]
  },
  {
   "cell_type": "markdown",
   "metadata": {},
   "source": [
    "### 1.2 Mahalanobis distance (5 pts)\n",
    "For classes `a` and `b`, give the expression of the Mahalanobis distance used to classify a point in class `a` or `b`, and verify the obtained classification, in comparison with the \"complete\" Bayes classification, for a few points of the plane."
   ]
  },
  {
   "cell_type": "markdown",
   "metadata": {},
   "source": [
    "The expression for the Mahalanobis distance is:\n",
    "$$d_m = ((x-\\mu_i) \\Sigma^{-1} (x-\\mu_i))^{1/2}$$"
   ]
  },
  {
   "cell_type": "code",
   "execution_count": 12,
   "metadata": {},
   "outputs": [],
   "source": [
    "def eval_mahala(data_point, mean, cov):\n",
    "    inv_cov = np.linalg.inv(cov)\n",
    "    result = np.dot((data_point - mean), inv_cov).dot((data_point - mean).T)\n",
    "    return result**(1/2)"
   ]
  },
  {
   "cell_type": "code",
   "execution_count": 13,
   "metadata": {},
   "outputs": [
    {
     "name": "stdout",
     "output_type": "stream",
     "text": [
      "Mahalanobis distance to class a of point[0 0]: 0.07560898942592024\n",
      "Mahalanobis distance to class b of point[0 0]: 3.020053270184179\n",
      "Point[0 0]is closer to class a\n",
      "\n",
      "Mahalanobis distance to class a of point[0 4]: 4.334799795555961\n",
      "Mahalanobis distance to class b of point[0 4]: 1.299971816556288\n",
      "Point[0 4]is closer to class b\n",
      "\n",
      "Mahalanobis distance to class a of point[5 8]: 8.788565813350603\n",
      "Mahalanobis distance to class b of point[5 8]: 4.770512087231115\n",
      "Point[5 8]is closer to class b\n",
      "\n",
      "Mahalanobis distance to class a of point[ 3 -4]: 4.563948681331022\n",
      "Mahalanobis distance to class b of point[ 3 -4]: 6.788413842450191\n",
      "Point[ 3 -4]is closer to class a\n",
      "\n"
     ]
    }
   ],
   "source": [
    "# Add your implementation and discussion\n",
    "\n",
    "test_points = np.array([(0, 0), (0, 4), (5, 8), (3, -4)])\n",
    "\n",
    "\n",
    "for i in range(test_points.shape[0]):\n",
    "    \n",
    "    dist_a = eval_mahala(test_points[i], mean_a, cov_a)\n",
    "    dist_b = eval_mahala(test_points[i], mean_b, cov_b)\n",
    "    \n",
    "    print(f'Mahalanobis distance to class a of point{test_points[i]}:', dist_a)\n",
    "    print(f'Mahalanobis distance to class b of point{test_points[i]}:', dist_b)\n",
    "    \n",
    "    if dist_a > dist_b:\n",
    "        print(f'Point{test_points[i]}is closer to class b', end='\\n\\n')\n",
    "    else:\n",
    "        print(f'Point{test_points[i]}is closer to class a', end='\\n\\n')"
   ]
  },
  {
   "cell_type": "markdown",
   "metadata": {},
   "source": [
    "As can be seen from the figure that shows the classes and the decision curves, the points [0,0] and [3,-4] belong to the class a, whereas the points [0,4] and [5,8] belong to the class b. After calculating the Mahalanobis distance, we reach to the same conclusion as the complete Bayes classification."
   ]
  },
  {
   "cell_type": "markdown",
   "metadata": {},
   "source": [
    "---\n",
    "\n",
    "## Part 2\n",
    "In this part, we aim to classify digits using the complete version of MNIST digits dataset.\n",
    "The dataset consists of 60'000 training images and 10'000 test images of handwritten digits.\n",
    "Each image has size 28x28, and has assigned a label from zero to nine, denoting the digits value.\n",
    "Given this data, your task is to construct a Multilayer Perceptron (MLP) for supervised training and classification and evaluate it on the test images.\n",
    "\n",
    "Download the MNIST dataset (all 4 files) from http://yann.lecun.com/exdb/mnist/ under `lab-03-data/part2`.\n",
    "You can then use the script provided below to extract and load training and testing images in Python. \n",
    "\n",
    "**! Warning**: When the lab was created the official MNIST repo was down, if it is still the case please use https://github.com/mkolod/MNIST."
   ]
  },
  {
   "cell_type": "markdown",
   "metadata": {},
   "source": [
    "### 2.1 Dataset loading\n",
    "Here we first declare the methods `extract_data` and `extract_labels` so that we can reuse them later in the code.\n",
    "Then we extract both the data and corresponding labels, and plot randomly some images and corresponding labels of the training set."
   ]
  },
  {
   "cell_type": "code",
   "execution_count": 14,
   "metadata": {},
   "outputs": [],
   "source": [
    "import gzip\n",
    "import numpy as np\n",
    "import matplotlib.pyplot as plt\n",
    "import os\n",
    "\n",
    "def extract_data(filename, image_shape, image_number):\n",
    "    with gzip.open(filename) as bytestream:\n",
    "        bytestream.read(16)\n",
    "        buf = bytestream.read(np.prod(image_shape) * image_number)\n",
    "        data = np.frombuffer(buf, dtype=np.uint8).astype(np.float32)\n",
    "        data = data.reshape(image_number, image_shape[0], image_shape[1])\n",
    "    return data\n",
    "\n",
    "\n",
    "def extract_labels(filename, image_number):\n",
    "    with gzip.open(filename) as bytestream:\n",
    "        bytestream.read(8)\n",
    "        buf = bytestream.read(1 * image_number)\n",
    "        labels = np.frombuffer(buf, dtype=np.uint8).astype(np.int64)\n",
    "    return labels"
   ]
  },
  {
   "cell_type": "code",
   "execution_count": 15,
   "metadata": {},
   "outputs": [],
   "source": [
    "image_shape = (28, 28)\n",
    "train_set_size = 60000\n",
    "test_set_size = 10000\n",
    "\n",
    "data_part2_folder = os.path.join(data_base_path, data_folder, 'part2')\n",
    "\n",
    "train_images_path = os.path.join(data_part2_folder, 'train-images-idx3-ubyte.gz')\n",
    "train_labels_path = os.path.join(data_part2_folder, 'train-labels-idx1-ubyte.gz')\n",
    "test_images_path = os.path.join(data_part2_folder, 't10k-images-idx3-ubyte.gz')\n",
    "test_labels_path = os.path.join(data_part2_folder, 't10k-labels-idx1-ubyte.gz')\n",
    "\n",
    "train_images = extract_data(train_images_path, image_shape, train_set_size)\n",
    "test_images = extract_data(test_images_path, image_shape, test_set_size)\n",
    "train_labels = extract_labels(train_labels_path, train_set_size)\n",
    "test_labels = extract_labels(test_labels_path, test_set_size)"
   ]
  },
  {
   "cell_type": "code",
   "execution_count": 16,
   "metadata": {},
   "outputs": [
    {
     "data": {
      "image/png": "[encoded data removed]",
      "text/plain": [
       "<Figure size 864x216 with 10 Axes>"
      ]
     },
     "metadata": {
      "needs_background": "light"
     },
     "output_type": "display_data"
    }
   ],
   "source": [
    "prng = np.random.RandomState(seed=123456789)  # seed to always re-draw the same distribution\n",
    "plt_ind = prng.randint(low=0, high=train_set_size, size=10)\n",
    "\n",
    "fig, axes = plt.subplots(1, 10, figsize=(12, 3))\n",
    "for ax, im, lb in zip(axes, train_images[plt_ind], train_labels[plt_ind]):\n",
    "    ax.imshow(im, cmap='gray')\n",
    "    ax.axis('off')\n",
    "    ax.set_title(lb)"
   ]
  },
  {
   "cell_type": "markdown",
   "metadata": {},
   "source": [
    "### 2.2 MLP (10 pts)\n",
    "\n",
    "To create an MLP you are free to choose any library.\n",
    "In case you don't have any preferences, we encourage you to use the [scikit-learn] package; it is a simple, efficient and free tool for data analysis and machine learning.\n",
    "In this [link][sklearn-example], you can find a basic example to see how to create and train an MLP using [scikit-learn].\n",
    "Your network should have the following properties:\n",
    "* Input `x`: 784-dimensional (i.e. 784 visible units representing the flattened 28x28 pixel images).\n",
    "* 100 hidden units `h`.\n",
    "* 10 output units `y`, i.e. the labels, with a value close to one in the i-th class representing a high probability of the input representing the digit `i`.\n",
    "\n",
    "If you need additional examples you can borrow some code from image classification tutorials.\n",
    "However, we recommend that you construct a minimal version of the network on your own to gain better insights.\n",
    "\n",
    "[scikit-learn]: http://scikit-learn.org/stable/index.html\n",
    "[sklearn-example]: http://scikit-learn.org/stable/modules/neural_networks_supervised.html"
   ]
  },
  {
   "cell_type": "markdown",
   "metadata": {},
   "source": [
    "We used tensorflow to implement an MLP. We referred to DeepLearning Specialization by DeepLearning AI as a code example."
   ]
  },
  {
   "cell_type": "code",
   "execution_count": 17,
   "metadata": {},
   "outputs": [],
   "source": [
    "import tensorflow as tf\n",
    "from tensorflow.keras.utils import to_categorical"
   ]
  },
  {
   "cell_type": "markdown",
   "metadata": {},
   "source": [
    "Training and test images are flattened and normalized before the classification."
   ]
  },
  {
   "cell_type": "code",
   "execution_count": 18,
   "metadata": {},
   "outputs": [],
   "source": [
    "def flatten(ims):\n",
    "    flat_ims = ims.reshape((ims.shape[0], -1))\n",
    "    flat_ims /= 255.0\n",
    "    return flat_ims"
   ]
  },
  {
   "cell_type": "code",
   "execution_count": 19,
   "metadata": {},
   "outputs": [
    {
     "name": "stdout",
     "output_type": "stream",
     "text": [
      "(60000, 784)\n",
      "(10000, 784)\n"
     ]
    }
   ],
   "source": [
    "train_ims = flatten(train_images)\n",
    "test_ims = flatten(test_images)\n",
    "print(train_ims.shape)\n",
    "print(test_ims.shape)"
   ]
  },
  {
   "cell_type": "markdown",
   "metadata": {},
   "source": [
    "Next, we should convert labels into one-hot encoding to train the softmax layer."
   ]
  },
  {
   "cell_type": "code",
   "execution_count": 20,
   "metadata": {},
   "outputs": [],
   "source": [
    "encoded_train_labels = to_categorical(train_labels, num_classes=10)\n",
    "encoded_test_labels = to_categorical(test_labels, num_classes=10)"
   ]
  },
  {
   "cell_type": "markdown",
   "metadata": {},
   "source": [
    "Flattened training and test images and labels are converted to tensors."
   ]
  },
  {
   "cell_type": "code",
   "execution_count": 21,
   "metadata": {},
   "outputs": [
    {
     "name": "stderr",
     "output_type": "stream",
     "text": [
      "2022-04-29 01:26:56.085549: I tensorflow/core/platform/cpu_feature_guard.cc:151] This TensorFlow binary is optimized with oneAPI Deep Neural Network Library (oneDNN) to use the following CPU instructions in performance-critical operations:  AVX2 AVX512F FMA\n",
      "To enable them in other operations, rebuild TensorFlow with the appropriate compiler flags.\n"
     ]
    }
   ],
   "source": [
    "train_ims = tf.convert_to_tensor(train_ims)\n",
    "test_ims = tf.convert_to_tensor(test_ims)\n",
    "encoded_train_labels = tf.convert_to_tensor(encoded_train_labels)\n",
    "encoded_test_labels = tf.convert_to_tensor(encoded_test_labels)\n",
    "\n",
    "train_ims = tf.data.Dataset.from_tensor_slices(train_ims)\n",
    "train_labels = tf.data.Dataset.from_tensor_slices(encoded_train_labels)\n",
    "test_ims = tf.data.Dataset.from_tensor_slices(test_ims)\n",
    "test_labs = tf.data.Dataset.from_tensor_slices(encoded_test_labels)"
   ]
  },
  {
   "cell_type": "markdown",
   "metadata": {},
   "source": [
    "We used sigmoid activation function of the first layer.\n",
    "To have a probability distribution as an output of the model, we used softmax function.\n",
    "To train MLP with one hidden layer with 100 units, we needed two weight vectors and two bias vectors. "
   ]
  },
  {
   "cell_type": "markdown",
   "metadata": {},
   "source": [
    "$$W_1 X + b_1 = Z_1$$\n",
    "$$sigmoid[Z_1] = a_1 $$ \n",
    "\n",
    "$$and $$\n",
    "\n",
    "$$W_2 a_1 + b_2 = Z_2 $$\n",
    "$$softmax[Z_2] = a_2 $$"
   ]
  },
  {
   "cell_type": "code",
   "execution_count": 22,
   "metadata": {},
   "outputs": [],
   "source": [
    "# initialize parameters (weights and biases to be trained)\n",
    "# Note that there are 100 hidden layer units\n",
    "def init_params():\n",
    "    \n",
    "    initializer = tf.keras.initializers.HeNormal()\n",
    "    \n",
    "    W1 = tf.Variable(initializer(shape=(100, 784)))\n",
    "    b1 = tf.Variable(initializer(shape=(100, 1)))\n",
    "    W2 = tf.Variable(initializer(shape=(10, 100)))\n",
    "    b2 = tf.Variable(initializer(shape=(10, 1)))\n",
    "    \n",
    "    params = {'W1':W1,\n",
    "              'b1':b1,\n",
    "              'W2':W2,\n",
    "              'b2':b2}\n",
    "    \n",
    "    return params"
   ]
  },
  {
   "cell_type": "code",
   "execution_count": 23,
   "metadata": {},
   "outputs": [],
   "source": [
    "# do the forward pass, gradients will be calculated by TF gradient tape\n",
    "def forward_pass(input_X, params):\n",
    "    \n",
    "    W1 = params['W1']\n",
    "    b1 = params['b1']\n",
    "    W2 = params['W2']\n",
    "    b2 = params['b2']\n",
    "    \n",
    "    Z1 = tf.math.add(tf.linalg.matmul(W1, input_X), b1)\n",
    "    a1 = tf.keras.activations.sigmoid(Z1)\n",
    "    Z2 = tf.math.add(tf.linalg.matmul(W2, a1), b2)\n",
    "    a2 = tf.keras.activations.softmax(Z2, axis=0)\n",
    "    \n",
    "    return a2"
   ]
  },
  {
   "cell_type": "markdown",
   "metadata": {},
   "source": [
    "Loss is computed with cross entropy function as follows:\n",
    "$$Loss = - \\sum_{i=1}^{output size} y_i log\\hat{y_i} $$\n"
   ]
  },
  {
   "cell_type": "code",
   "execution_count": 24,
   "metadata": {},
   "outputs": [],
   "source": [
    "# computes the average loss over a batch of images\n",
    "def compute_cost(preds, labels):\n",
    "    cost = tf.reduce_mean(tf.keras.metrics.categorical_crossentropy(preds, labels, axis=0))\n",
    "    return cost"
   ]
  },
  {
   "cell_type": "markdown",
   "metadata": {},
   "source": [
    " Here we define a function that repeatedly perfroms forward and backward pass.\n",
    " Gradients are calculated using the computation graph with TensorFlow gradient tape api."
   ]
  },
  {
   "cell_type": "markdown",
   "metadata": {},
   "source": [
    "Adam optimizer is used for gradient descent algorithm. $ß_1 = 0.9$ and $ß_2 = 0.999$ and $\\epsilon = 1e-07$ is used."
   ]
  },
  {
   "cell_type": "code",
   "execution_count": 25,
   "metadata": {},
   "outputs": [],
   "source": [
    "def model(train_data, test_data, train_labels, test_labels, lr=0.002, num_epoch=1000, minibatch_size=48):\n",
    "    \n",
    "    costs = []\n",
    "    train_acc_database = []\n",
    "    test_acc_database = []\n",
    "    \n",
    "    # Adam optimizer\n",
    "    opt = tf.keras.optimizers.Adam(lr)\n",
    "\n",
    "    params = init_params()\n",
    "\n",
    "    W1 = params['W1']\n",
    "    b1 = params['b1']\n",
    "    W2 = params['W2']\n",
    "    b2 = params['b2']\n",
    "\n",
    "    train_accuracy = tf.keras.metrics.CategoricalAccuracy()\n",
    "    test_accuracy = tf.keras.metrics.CategoricalAccuracy()\n",
    "    \n",
    "    # Training data and labels & test data and labels are matched\n",
    "    train_dataset = tf.data.Dataset.zip((train_data, train_labels))\n",
    "    test_dataset = tf.data.Dataset.zip((test_data, test_labels))\n",
    "    \n",
    "    # number of training data\n",
    "    m = train_dataset.cardinality().numpy() \n",
    "    \n",
    "    # minibatches with given size are created\n",
    "    train_minibatches = train_dataset.batch(minibatch_size).prefetch(8)\n",
    "    test_minibatches = test_dataset.batch(minibatch_size).prefetch(8)\n",
    "    \n",
    "    train_params = [W1, b1, W2, b2]\n",
    "    \n",
    "    for i in range(num_epoch):\n",
    "        \n",
    "        epoch_cost = 0\n",
    "        \n",
    "        for (min_batch_X, min_batch_Y) in train_minibatches:\n",
    "            \n",
    "            # We used GradientTape api to form computation graphs\n",
    "            with tf.GradientTape() as tape:\n",
    "                tape.watch(train_params)\n",
    "                a2 = forward_pass(tf.transpose(min_batch_X), params)\n",
    "                minibatch_cost = compute_cost(a2, tf.transpose(min_batch_Y))\n",
    "                \n",
    "            # Gradients are calculated    \n",
    "            grads = tape.gradient(minibatch_cost, train_params)\n",
    "            \n",
    "            # Minibatch Gradient Descent Algorithm\n",
    "            opt.apply_gradients(zip(grads, train_params)) \n",
    "            \n",
    "            # Training accuracy is calculated\n",
    "            train_accuracy.update_state(a2, tf.transpose(min_batch_Y))\n",
    "            epoch_cost += minibatch_cost\n",
    "        \n",
    "        # Averaging Loss\n",
    "        epoch_cost = epoch_cost / m\n",
    "        \n",
    "        if i % 10 == 0:\n",
    "            print(f'epoch = {i}\\t cost = {epoch_cost}')\n",
    "            print(f'train accuracy = {train_accuracy.result()}')\n",
    "            \n",
    "            # Calculating test set accuracy every 10 epochs\n",
    "            for (test_minibatch_X, test_minibatch_Y) in test_minibatches:\n",
    "                a2 = forward_pass(tf.transpose(test_minibatch_X), params)\n",
    "                test_accuracy.update_state(a2, tf.transpose(test_minibatch_Y))\n",
    "                \n",
    "            print(f'Test accuracy: {test_accuracy.result()}')\n",
    "            costs.append(epoch_cost)\n",
    "            train_acc_database.append(train_accuracy.result())\n",
    "            test_acc_database.append(test_accuracy.result())\n",
    "            \n",
    "    \n",
    "    final_params = {'W1':train_params[0], 'b1': train_params[1], 'W2': train_params[2], 'b2': train_params[3]}\n",
    "            \n",
    "            \n",
    "    return final_params, costs, train_acc_database, test_acc_database\n",
    "    "
   ]
  },
  {
   "cell_type": "markdown",
   "metadata": {},
   "source": [
    "Training is done with 300 epochs, learning rate = 0.002, minibatch size = 48. "
   ]
  },
  {
   "cell_type": "code",
   "execution_count": 26,
   "metadata": {
    "scrolled": true
   },
   "outputs": [
    {
     "name": "stdout",
     "output_type": "stream",
     "text": [
      "epoch = 0\t cost = 0.07116923481225967\n",
      "train accuracy = 0.22575999796390533\n",
      "Test accuracy: 0.2516746520996094\n",
      "epoch = 10\t cost = 0.005687379743903875\n",
      "train accuracy = 0.26423999667167664\n",
      "Test accuracy: 0.2949760854244232\n",
      "epoch = 20\t cost = 0.0031126844696700573\n",
      "train accuracy = 0.32256001234054565\n",
      "Test accuracy: 0.3586921989917755\n",
      "epoch = 30\t cost = 0.002455781912431121\n",
      "train accuracy = 0.391483873128891\n",
      "Test accuracy: 0.42380383610725403\n",
      "epoch = 40\t cost = 0.002009740797802806\n",
      "train accuracy = 0.45034536719322205\n",
      "Test accuracy: 0.4755024015903473\n",
      "epoch = 50\t cost = 0.0018009173218160868\n",
      "train accuracy = 0.49754980206489563\n",
      "Test accuracy: 0.5149123072624207\n",
      "epoch = 60\t cost = 0.0016672620549798012\n",
      "train accuracy = 0.5356091856956482\n",
      "Test accuracy: 0.5486671328544617\n",
      "epoch = 70\t cost = 0.0015601940685883164\n",
      "train accuracy = 0.5674591660499573\n",
      "Test accuracy: 0.5763756036758423\n",
      "epoch = 80\t cost = 0.0015666999388486147\n",
      "train accuracy = 0.5936068892478943\n",
      "Test accuracy: 0.5993620157241821\n",
      "epoch = 90\t cost = 0.0014450113521888852\n",
      "train accuracy = 0.6166223883628845\n",
      "Test accuracy: 0.6194258332252502\n",
      "epoch = 100\t cost = 0.0014476352371275425\n",
      "train accuracy = 0.6363762617111206\n",
      "Test accuracy: 0.6368855834007263\n",
      "epoch = 110\t cost = 0.0013083152007311583\n",
      "train accuracy = 0.6534745693206787\n",
      "Test accuracy: 0.6527113318443298\n",
      "epoch = 120\t cost = 0.0012717349454760551\n",
      "train accuracy = 0.6689831614494324\n",
      "Test accuracy: 0.6670224666595459\n",
      "epoch = 130\t cost = 0.001346354023553431\n",
      "train accuracy = 0.682790219783783\n",
      "Test accuracy: 0.6784005761146545\n",
      "epoch = 140\t cost = 0.0015102054458111525\n",
      "train accuracy = 0.6948261260986328\n",
      "Test accuracy: 0.6883891820907593\n",
      "epoch = 150\t cost = 0.001215674332343042\n",
      "train accuracy = 0.7061377763748169\n",
      "Test accuracy: 0.6986243724822998\n",
      "epoch = 160\t cost = 0.0011982046999037266\n",
      "train accuracy = 0.716421365737915\n",
      "Test accuracy: 0.7078525424003601\n",
      "epoch = 170\t cost = 0.0011872167233377695\n",
      "train accuracy = 0.7257249355316162\n",
      "Test accuracy: 0.7162147760391235\n",
      "epoch = 180\t cost = 0.0012567297089844942\n",
      "train accuracy = 0.7343999743461609\n",
      "Test accuracy: 0.7232939004898071\n",
      "epoch = 190\t cost = 0.0011533215874806046\n",
      "train accuracy = 0.7422441840171814\n",
      "Test accuracy: 0.7300478219985962\n",
      "epoch = 200\t cost = 0.001185484230518341\n",
      "train accuracy = 0.7493341565132141\n",
      "Test accuracy: 0.7359079718589783\n",
      "epoch = 210\t cost = 0.0011766861425712705\n",
      "train accuracy = 0.7560455203056335\n",
      "Test accuracy: 0.7414963245391846\n",
      "epoch = 220\t cost = 0.0011026185238733888\n",
      "train accuracy = 0.7627265453338623\n",
      "Test accuracy: 0.7471811771392822\n",
      "epoch = 230\t cost = 0.0011457833461463451\n",
      "train accuracy = 0.768547534942627\n",
      "Test accuracy: 0.752053439617157\n",
      "epoch = 240\t cost = 0.0011040786048397422\n",
      "train accuracy = 0.774226725101471\n",
      "Test accuracy: 0.7568420767784119\n",
      "epoch = 250\t cost = 0.0011108329053968191\n",
      "train accuracy = 0.7795120477676392\n",
      "Test accuracy: 0.7610415816307068\n",
      "epoch = 260\t cost = 0.001095661660656333\n",
      "train accuracy = 0.7846755385398865\n",
      "Test accuracy: 0.7650185823440552\n",
      "epoch = 270\t cost = 0.0010517067275941372\n",
      "train accuracy = 0.7893587946891785\n",
      "Test accuracy: 0.7689337134361267\n",
      "epoch = 280\t cost = 0.001062959199771285\n",
      "train accuracy = 0.7941272854804993\n",
      "Test accuracy: 0.7726447582244873\n",
      "epoch = 290\t cost = 0.001028328901156783\n",
      "train accuracy = 0.7984621524810791\n",
      "Test accuracy: 0.7761722207069397\n"
     ]
    }
   ],
   "source": [
    "params, costs, train_acc, test_acc = model(train_ims, test_ims, train_labels, test_labs, num_epoch=300)"
   ]
  },
  {
   "cell_type": "code",
   "execution_count": 27,
   "metadata": {},
   "outputs": [],
   "source": [
    "def plot_acc(train_acc, test_acc):\n",
    "    plt.figure(figsize=(10, 6))\n",
    "    plt.plot(train_acc)\n",
    "    plt.plot(test_acc)\n",
    "    plt.title('Train and Test Accuracy')\n",
    "    plt.legend(('Train Accuracy', 'Test accuracy'))\n",
    "\n",
    "def plot_loss(loss):\n",
    "    plt.figure(figsize=(10, 6))\n",
    "    plt.plot(loss)\n",
    "    plt.title('Loss')"
   ]
  },
  {
   "cell_type": "code",
   "execution_count": 28,
   "metadata": {},
   "outputs": [
    {
     "data": {
      "image/png": "[encoded data removed]",
      "text/plain": [
       "<Figure size 720x432 with 1 Axes>"
      ]
     },
     "metadata": {
      "needs_background": "light"
     },
     "output_type": "display_data"
    }
   ],
   "source": [
    "plot_acc(train_acc, test_acc)"
   ]
  },
  {
   "cell_type": "markdown",
   "metadata": {},
   "source": [
    "After around 200 epochs the model starts to overfit as seen above. We could train the model further with some regularization."
   ]
  },
  {
   "cell_type": "code",
   "execution_count": 29,
   "metadata": {},
   "outputs": [
    {
     "data": {
      "image/png": "[encoded data removed]",
      "text/plain": [
       "<Figure size 720x432 with 1 Axes>"
      ]
     },
     "metadata": {
      "needs_background": "light"
     },
     "output_type": "display_data"
    }
   ],
   "source": [
    "plot_loss(costs)"
   ]
  },
  {
   "cell_type": "markdown",
   "metadata": {},
   "source": [
    "As can be seen from figures above, train and test accuracy reach approximately 79% at the end of 300 epochs and the average loss reduces to 0.0011"
   ]
  }
 ],
 "metadata": {
  "kernelspec": {
   "display_name": "Python 3 (ipykernel)",
   "language": "python",
   "name": "python3"
  },
  "language_info": {
   "codemirror_mode": {
    "name": "ipython",
    "version": 3
   },
   "file_extension": ".py",
   "mimetype": "text/x-python",
   "name": "python",
   "nbconvert_exporter": "python",
   "pygments_lexer": "ipython3",
   "version": "3.10.4"
  }
 },
 "nbformat": 4,
 "nbformat_minor": 2
}
